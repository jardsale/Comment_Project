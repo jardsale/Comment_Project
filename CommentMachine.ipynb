{
 "cells": [
  {
   "cell_type": "markdown",
   "metadata": {
    "collapsed": false
   },
   "source": [
    "# Spreadsheet Reader"
   ]
  },
  {
   "cell_type": "code",
   "execution_count": 3,
   "metadata": {
    "collapsed": false
   },
   "outputs": [
    {
     "name": "stdout",
     "output_type": "stream",
     "text": [
      "[['Can of soup', 'they/them/their', '0', '0', '0', '\"...\"', ['introverted']], ['Pat', 'she/her/her', '50', '79', '64.5', '\"My name\\'s Pat.\"', ['meh']], ['Bazinga', 'she/her/her', '89', '70', '79.5', '\"Bazinga!\"', ['humorous', 'clever']], ['Sun Tzu', 'he/him/his', '75', '100', '87.5', '\"The supreme art of war is to subdue the enemy without fighting\"', ['eloquent', 'wise']], ['Jazz', 'she/her/her', '96', '92', '94', '\"The absolute black lit up by the fireflies\\' glow, really struck me.\"', ['well-prepared', 'bright', 'patient']], ['Harold', 'he/him/his', '100', '100', '100', '\"Woo-hah!\"', ['sharp', 'intelligent', 'engaged']]]\n"
     ]
    }
   ],
   "source": [
    "##Run this cell to be able to reference the student data\n",
    "\n",
    "import csv\n",
    "\n",
    "INTRO_SENTENCE = \"In this class, we studied the contemporary religious literature of Southeastern Slovenia in the 1960's. \"\n",
    "\n",
    "with open(\"students.csv\") as file:\n",
    "    headers = file.readline().split(\",\")\n",
    "    data = csv.reader(file, delimiter = \",\")\n",
    "    students = []\n",
    "\n",
    "    for line in data:\n",
    "        students.append(line[:6] + [[attribute.lower() for attribute in line[6].split()]])\n",
    "\n",
    "print(students)"
   ]
  },
  {
   "cell_type": "markdown",
   "metadata": {
    "collapsed": false
   },
   "source": [
    "# Grader"
   ]
  },
  {
   "cell_type": "code",
   "execution_count": 4,
   "metadata": {
    "collapsed": false
   },
   "outputs": [
   ],
   "source": [
    "from random import choice\n",
    "\n",
    "def a(word):\n",
    "    if word.lower()[0] in [\"a\", \"e\", \"i\", \"o\", \"u\"]:\n",
    "        return \"an\"\n",
    "    return \"a\"\n",
    "\n",
    "\n",
    "def grader(student):\n",
    "    '''Takes a student and returns a partially randomized string describing their performance on major assignments.'''\n",
    "    message = \"\"\n",
    "    ranges = []\n",
    "    descriptors = []\n",
    "\n",
    "    for num in range (2,5): ##Looping through the assignments being graded\n",
    "        grade = int(float(student[num]))\n",
    "\n",
    "        if 0 <= grade <= 50:\n",
    "            descriptors.append(choice([\"abysmal\", \"atrocious\", \"disgusting\"]))\n",
    "            ranges.append(0)\n",
    "\n",
    "        elif 50 < grade <= 70:\n",
    "            descriptors.append(choice([\"poor\", \"mediocre\", \"bad\"]))\n",
    "            ranges.append(0)\n",
    "\n",
    "        elif 70 < grade <= 80:\n",
    "            descriptors.append(choice([\"decent\", \"okay\", \"fair\"]))\n",
    "            ranges.append(1)\n",
    "\n",
    "        elif 80 < grade <= 90:\n",
    "            descriptors.append(choice([\"good\", \"nice\"]))\n",
    "            ranges.append(1)\n",
    "\n",
    "        elif 90 < grade <= 95:\n",
    "            descriptors.append(choice([\"great\", \"awesome\", \"excellent\"]))\n",
    "            ranges.append(1)\n",
    "\n",
    "        else:\n",
    "            descriptors.append(choice([\"mind-blowing\", \"sublime\", \"virtuosic\"]))\n",
    "            ranges.append(1)\n",
    "\n",
    "    if ranges[0] == ranges[1]:\n",
    "        word = \"and\"\n",
    "    else:\n",
    "        word = \"but\"\n",
    "\n",
    "    return f\"{student[0]} did {a(descriptors[0])} {descriptors[0]} job on the fall project {word} {a(descriptors[1])} {descriptors[1]} job on the final project. Overall, {a(descriptors[2])} {descriptors[2]} student. \""
   ]
  },
  {
   "cell_type": "markdown",
   "metadata": {
    "collapsed": false
   },
   "source": [
    "# Excerpt"
   ]
  },
  {
   "cell_type": "code",
   "execution_count": 5,
   "metadata": {
    "collapsed": false
   },
   "outputs": [
   ],
   "source": [
    "def excerpt(student):\n",
    "    pronouns = student[1].split(\"/\")\n",
    "    return f\"One of my favorite excerpts from {pronouns[2]} work was, {student[5]}. \""
   ]
  },
  {
   "cell_type": "markdown",
   "metadata": {
    "collapsed": false
   },
   "source": [
    "# Attributes"
   ]
  },
  {
   "cell_type": "code",
   "execution_count": 6,
   "metadata": {
    "collapsed": false
   },
   "outputs": [
   ],
   "source": [
    "def attributes(student):\n",
    "    a = student[6]\n",
    "    if len(a) > 2:\n",
    "        message = \", \".join(a[:-1]) + \" and \" + a[-1]\n",
    "\n",
    "    elif len(a) == 2:\n",
    "        message = a[0] + \" and \" + a[1]\n",
    "\n",
    "    else:\n",
    "        message = a[0]\n",
    "\n",
    "    return f\"{student[0]} is {message}. \""
   ]
  },
  {
   "cell_type": "markdown",
   "metadata": {
    "collapsed": false
   },
   "source": [
    "# Assembly"
   ]
  },
  {
   "cell_type": "code",
   "execution_count": 11,
   "metadata": {
    "collapsed": false,
    "scrolled": true
   },
   "outputs": [
   ],
   "source": [
    "with open(\"comments.txt\", \"w\") as comments:\n",
    "    for student in students:\n",
    "        comment = INTRO_SENTENCE\n",
    "        comment += improvement(student)\n",
    "        comment += grader(student)\n",
    "        comment += excerpt(student)\n",
    "        comment += attributes(student)\n",
    "        comments.write(comment + \"\\n\")"
   ]
  },
  {
   "cell_type": "markdown",
   "metadata": {
    "collapsed": false
   },
   "source": [
    "# Improvement"
   ]
  },
  {
   "cell_type": "code",
   "execution_count": 10,
   "metadata": {
    "collapsed": false
   },
   "outputs": [
   ],
   "source": [
    "def improvement(student):\n",
    "    fallscore = student[2]\n",
    "    finalscore = student[3]\n",
    "\n",
    "    if fallscore < finalscore:\n",
    "        return(f\"{student[0]} did not see improvement over the course of the year.\")\n",
    "    else:\n",
    "        return(f\"{student[0]} saw improvement over the course of the year.\")"
   ]
  },
  {
   "cell_type": "code",
   "execution_count": 0,
   "metadata": {
    "collapsed": false
   },
   "outputs": [
   ],
   "source": [
   ]
  }
 ],
 "metadata": {
  "kernelspec": {
   "display_name": "Python 3 (system-wide)",
   "language": "python",
   "metadata": {
    "cocalc": {
     "description": "Python 3 programming language",
     "priority": 100,
     "url": "https://www.python.org/"
    }
   },
   "name": "python3",
   "resource_dir": "/ext/jupyter/kernels/python3"
  },
  "language_info": {
   "codemirror_mode": {
    "name": "ipython",
    "version": 3
   },
   "file_extension": ".py",
   "mimetype": "text/x-python",
   "name": "python",
   "nbconvert_exporter": "python",
   "pygments_lexer": "ipython3",
   "version": "3.8.5"
  }
 },
 "nbformat": 4,
 "nbformat_minor": 4
}